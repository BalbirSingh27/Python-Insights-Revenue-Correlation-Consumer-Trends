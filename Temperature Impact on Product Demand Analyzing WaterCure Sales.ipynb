{
 "cells": [
  {
   "cell_type": "markdown",
   "id": "daadc9d0-8628-434a-8a15-8911c1f12da6",
   "metadata": {},
   "source": [
    "# Background Information:\n",
    "- The company has recently launched two new products, BobaWonder and WaterCure, which were developed as substitute goods for different target audiences. BobaWonder is aimed at bubble tea customers, while WaterCure targets individuals who prefer high-quality water. Surprisingly, the sales data analysis showed a positive correlation between the sales of these two products, which puzzled the company.\n",
    "\n",
    "- To further investigate this phenomenon, a deeper analysis was conducted, focusing on the relationship between sales and external factors like temperature. The hypothesis is that the observed correlation between the sales of WaterCure units and high temperatures could explain the positive correlation with BobaWonder, as higher temperatures might influence the demand for refreshing products like WaterCure.\n",
    "\n",
    "- For this analysis, I was provided with a dataset containing the number of WaterCure units sold per day and the daily temperature from January to August 2024 in Australia. The goal of this analysis is to:\n",
    "\n",
    "1. Summarize the daily sales and temperature data.\n",
    "2. Examine the correlation between daily units sold and daily temperature.\n",
    "3. Sort the data according to the number of units sold per day.\n",
    "4. Save the sorted data to a new CSV file for further analysis.\n",
    "- This analysis aims to understand the impact of climatic conditions on the sales of WaterCure and to identify whether external factors, such as temperature, might explain the unexpected correlation between the two products."
   ]
  },
  {
   "cell_type": "code",
   "execution_count": 27,
   "id": "a7ebdf83-07c2-4e6f-85cf-ec628f28be69",
   "metadata": {},
   "outputs": [
    {
     "data": {
      "text/html": [
       "<div>\n",
       "<style scoped>\n",
       "    .dataframe tbody tr th:only-of-type {\n",
       "        vertical-align: middle;\n",
       "    }\n",
       "\n",
       "    .dataframe tbody tr th {\n",
       "        vertical-align: top;\n",
       "    }\n",
       "\n",
       "    .dataframe thead th {\n",
       "        text-align: right;\n",
       "    }\n",
       "</style>\n",
       "<table border=\"1\" class=\"dataframe\">\n",
       "  <thead>\n",
       "    <tr style=\"text-align: right;\">\n",
       "      <th></th>\n",
       "      <th>Date</th>\n",
       "      <th>Daily Units Sold</th>\n",
       "      <th>Daily Unit Price</th>\n",
       "      <th>Daily Temperature (C)</th>\n",
       "    </tr>\n",
       "  </thead>\n",
       "  <tbody>\n",
       "    <tr>\n",
       "      <th>0</th>\n",
       "      <td>1/1/2024</td>\n",
       "      <td>91</td>\n",
       "      <td>24.0</td>\n",
       "      <td>25</td>\n",
       "    </tr>\n",
       "    <tr>\n",
       "      <th>1</th>\n",
       "      <td>1/2/2024</td>\n",
       "      <td>90</td>\n",
       "      <td>24.0</td>\n",
       "      <td>24</td>\n",
       "    </tr>\n",
       "    <tr>\n",
       "      <th>2</th>\n",
       "      <td>1/3/2024</td>\n",
       "      <td>70</td>\n",
       "      <td>24.0</td>\n",
       "      <td>19</td>\n",
       "    </tr>\n",
       "    <tr>\n",
       "      <th>3</th>\n",
       "      <td>1/4/2024</td>\n",
       "      <td>89</td>\n",
       "      <td>24.0</td>\n",
       "      <td>23</td>\n",
       "    </tr>\n",
       "    <tr>\n",
       "      <th>4</th>\n",
       "      <td>1/5/2024</td>\n",
       "      <td>100</td>\n",
       "      <td>24.0</td>\n",
       "      <td>36</td>\n",
       "    </tr>\n",
       "  </tbody>\n",
       "</table>\n",
       "</div>"
      ],
      "text/plain": [
       "       Date  Daily Units Sold  Daily Unit Price  Daily Temperature (C)\n",
       "0  1/1/2024                91              24.0                     25\n",
       "1  1/2/2024                90              24.0                     24\n",
       "2  1/3/2024                70              24.0                     19\n",
       "3  1/4/2024                89              24.0                     23\n",
       "4  1/5/2024               100              24.0                     36"
      ]
     },
     "execution_count": 27,
     "metadata": {},
     "output_type": "execute_result"
    }
   ],
   "source": [
    "# Importing library\n",
    "import pandas as pd\n",
    "\n",
    "file_path = 'C:\\\\Users\\\\balbi\\\\OneDrive\\\\daily_sales.csv' # Loading the CSV file into a DataFrame\n",
    "df = pd.read_csv(file_path)\n",
    "df_cleaned = pd.read_csv(file_path, skiprows=2)  # Reading CSV file again, skipping unnecessary rows to get the correct data\n",
    "df_cleaned.columns = ['Date', 'Daily Units Sold', 'Daily Unit Price', 'Daily Temperature (C)']  # Renaming columns for clarity\n",
    "df_cleaned.head()  # Displaying cleaned DataFrame"
   ]
  },
  {
   "cell_type": "code",
   "execution_count": 29,
   "id": "a9b43267-eee0-45bc-9c24-df0438cc97c3",
   "metadata": {},
   "outputs": [
    {
     "name": "stdout",
     "output_type": "stream",
     "text": [
      "       Daily Units Sold  Daily Temperature (C)\n",
      "count        244.000000             244.000000\n",
      "mean          66.479508              19.512295\n",
      "std           19.003021               5.374442\n",
      "min           11.000000               7.000000\n",
      "25%           57.000000              16.000000\n",
      "50%           63.500000              19.000000\n",
      "75%           81.250000              23.000000\n",
      "max          100.000000              36.000000\n"
     ]
    }
   ],
   "source": [
    "# Reading the CSV file and skipping the first three rows to clean the data\n",
    "df = pd.read_csv(file_path, skiprows=3, names=[\"Date\", \"Daily Units Sold\", \"Daily Unit Price\", \"Daily Temperature (C)\"]) \n",
    "\n",
    "# Getting summary statistics for 'Daily Units Sold' and 'Daily Temperature (C)'\n",
    "summary_stats = df[['Daily Units Sold', 'Daily Temperature (C)']].describe() \n",
    "# Displaying the summary statistics\n",
    "print(summary_stats)\n"
   ]
  },
  {
   "cell_type": "markdown",
   "id": "ffcbb89f-a6bc-438d-89a0-020004633551",
   "metadata": {},
   "source": [
    "# Summary of the Daily Sales and Daily Temperature\n",
    "Daily Units Sold \n",
    "- Count: 244 days (total number of records for daily sales).<br>\n",
    "- Mean: 66.48 units (average number of units sold per day).<br>\n",
    "- Standard Deviation (std): 19.00 units (variability in daily sales; a higher value indicates more fluctuation).<br>\n",
    "- Minimum (min): 11 units (the lowest number of units sold on a single day).<br>\n",
    "- Median (50%): 63.5 units (the middle value; half of the days had sales less than this amount).<br>\n",
    "- Maximum (max): 100 units (the highest number of units sold on any single day).<br>\n",
    "\n",
    "# Daily Temperature (C)\n",
    "- Count: 244 days (total number of records for temperature).<br>\n",
    "- Mean: 19.51°C (average daily temperature).<br>\n",
    "- Standard Deviation (std): 5.37°C (variability in daily temperature; a higher value indicates more fluctuation).<br>\n",
    "- Minimum (min): 7°C (the coldest temperature recorded).<br>\n",
    "- Median (50%): 19°C (the middle temperature value; half of the days had temperatures below this level).<br>\n",
    "- Maximum (max): 36°C (the hottest temperature recorded).<br>\n",
    "\n",
    "# Interpretation\n",
    "# Daily Units Sold:\n",
    "\n",
    "- The mean sales of approximately 66 units per day suggest moderate daily demand for the WaterCure units. The standard deviation of 19 units indicates a reasonable level of variability in daily sales.\n",
    "- The maximum value of 100 units sold in a single day points to a peak in demand, while the minimum of 11 units sold indicates the lowest level of daily sales.\n",
    "\n",
    "# Daily Temperature:\n",
    "\n",
    "- The mean temperature of 19.51°C indicates a moderate climate overall during the recorded period.\n",
    "- The maximum temperature of 36°C represents the hottest day, which might correspond to increased sales if warmer weather drives higher demand for WaterCure units. Similarly, the minimum temperature of 7°C marks the coldest day during this period.\n",
    "\n",
    "This summary provides insights into the variability and trends in both sales and temperature over the specified period, which can help in understanding how external factors like weather might affect sales performance."
   ]
  },
  {
   "cell_type": "code",
   "execution_count": 30,
   "id": "408f3523-695d-493f-9299-c4f48078e6b0",
   "metadata": {},
   "outputs": [
    {
     "name": "stdout",
     "output_type": "stream",
     "text": [
      "Pearson Correlation between Daily Units Sold and Daily Temperature (C): 0.804\n"
     ]
    }
   ],
   "source": [
    "# Reading CSV file and skipping first three rows to clean the data\n",
    "df = pd.read_csv(file_path, skiprows=3, names=[\"Date\", \"Daily Units Sold\", \"Daily Unit Price\", \"Daily Temperature (C)\"])\n",
    "\n",
    "# Calculating the Pearson correlation between 'Daily Units Sold' and 'Daily Temperature (C)'\n",
    "pearson_correlation = df['Daily Units Sold'].corr(df['Daily Temperature (C)'])\n",
    "\n",
    "# Rounding off the Pearson correlation to 3 decimal places\n",
    "pearson_correlation_rounded = round(pearson_correlation, 3)\n",
    "\n",
    "# Displaying the rounded Pearson correlation\n",
    "print(\"Pearson Correlation between Daily Units Sold and Daily Temperature (C):\", pearson_correlation_rounded)"
   ]
  },
  {
   "cell_type": "markdown",
   "id": "dcff56f5-f64c-44ce-a44d-5c390e81cc46",
   "metadata": {},
   "source": [
    "# Interpretation\n",
    "- The Pearson correlation coefficient of 0.804 which is close to 1.It indicates a strong positive correlation between daily sold units and daily temperature.\n",
    "- This suggests that as the temperature increases, the number of WaterCure units sold also tends to increase. This positive relationship might imply that warmer weather drives a higher demand for these units, possibly because they are more relevant or necessary in hotter conditions.\n",
    "The strong positive correlation can be useful for forecasting sales and understanding how external factors like temperature impact the product's demand. "
   ]
  },
  {
   "cell_type": "code",
   "execution_count": 35,
   "id": "90ee61a0-3b0c-45a3-9d76-e47c79710092",
   "metadata": {},
   "outputs": [
    {
     "name": "stdout",
     "output_type": "stream",
     "text": [
      "         Date  Daily Units Sold  Daily Unit Price  Daily Temperature (C)\n",
      "4    1/5/2024               100              24.0                     36\n",
      "16  1/17/2024               100              24.0                     36\n",
      "27  1/28/2024                97              24.0                     33\n",
      "30  1/31/2024                96              24.0                     32\n",
      "28  1/29/2024                95              24.0                     30\n"
     ]
    }
   ],
   "source": [
    "# Sort the DataFrame by 'Daily Units Sold' in descending order\n",
    "sorted_df = df.sort_values(by='Daily Units Sold', ascending=False)\n",
    "\n",
    "# Display the sorted DataFrame\n",
    "print(sorted_df.head())"
   ]
  },
  {
   "cell_type": "markdown",
   "id": "cc29c54c-9f3b-4091-b14b-93d17dd1b618",
   "metadata": {},
   "source": [
    "# Interpretation\n",
    "- After sorting, the days with the highest sales will appear at the top of the DataFrame.\n",
    "This will help the company identify patterns, such as how sales peak during particularly hot days, reinforcing the potential influence of climate on sales"
   ]
  },
  {
   "cell_type": "code",
   "execution_count": null,
   "id": "0afef57d-155a-417f-9abd-ae1de955e3bb",
   "metadata": {},
   "outputs": [],
   "source": []
  }
 ],
 "metadata": {
  "kernelspec": {
   "display_name": "Python 3 (ipykernel)",
   "language": "python",
   "name": "python3"
  },
  "language_info": {
   "codemirror_mode": {
    "name": "ipython",
    "version": 3
   },
   "file_extension": ".py",
   "mimetype": "text/x-python",
   "name": "python",
   "nbconvert_exporter": "python",
   "pygments_lexer": "ipython3",
   "version": "3.12.4"
  }
 },
 "nbformat": 4,
 "nbformat_minor": 5
}
