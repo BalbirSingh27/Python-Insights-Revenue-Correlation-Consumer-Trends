{
 "cells": [
  {
   "cell_type": "markdown",
   "id": "189f12f5-706d-42b4-8c04-58e299870699",
   "metadata": {},
   "source": [
    "# Sales Correlation Analysis for WaterPro Company\n",
    "\n",
    "**Background and Task Overview**\n",
    "\n",
    "WaterPro, a company that introduced two new products, WaterCure and BobaWonder, to the market in January 2024, is interested in understanding the relationship between the sales of these two products. They want to know if good sales performance for BobaWonder correlates with good sales for WaterCure. In other words, the company is curious to see if there is a pattern where high sales of one product are associated with high sales of the other.\n",
    "\n",
    "**Motivation for Correlation Analysis**\n",
    "\n",
    "Correlation analysis allows us to assess the strength and direction of the relationship between two variables — in this case, the monthly sales revenues of BobaWonder and WaterCure. By calculating the Pearson correlation coefficient, we can determine whether:\n",
    "\n",
    "- The sales of BobaWonder and WaterCure move together in a positive direction (positive correlation),\n",
    "- They move in opposite directions (negative correlation),Or if they are largely unrelated (no significant correlation).\n",
    "- A strong correlation could imply that similar factors influence the sales of both products, whereas a weak or negative correlation may suggest that -their sales are driven by different factors.\n",
    "\n",
    "**Objectives**\n",
    " To provide insights for WaterPro, we will:\n",
    "\n",
    "- Create dictionaries to store the monthly sales data for BobaWonder and WaterCure.\n",
    "- Identify the months with the highest and lowest sales for both products.\n",
    "- Find the months where sales exceeded 750 units for each product.\n",
    "- Calculate the Pearson correlation coefficient to determine if there is a relationship between the sales of BobaWonder and WaterCure.\n",
    "- Interpret the results based on the correlation coefficient to offer meaningful insights to the company."
   ]
  },
  {
   "cell_type": "code",
   "execution_count": 4,
   "id": "974c0938-3fa4-460f-bdab-09b1b8781a6d",
   "metadata": {},
   "outputs": [
    {
     "name": "stdout",
     "output_type": "stream",
     "text": [
      "Highest sales for BobaWonder: January (900)\n",
      "Lowest sales for BobaWonder: July (538)\n",
      "Highest sales for WaterCure: January (890)\n",
      "Lowest sales for WaterCure: July (435)\n",
      "\n",
      "Months with BobaWonder sales over 750:\n",
      "January: 900\n",
      "February: 800\n",
      "April: 772\n",
      "\n",
      "Months with WaterCure sales over 750:\n",
      "January: 890\n",
      "\n",
      "Pearson correlation coefficient: 0.8607420030427412\n",
      "P-value: 0.006065991649604092\n"
     ]
    }
   ],
   "source": [
    "# Import necessary libraries\n",
    "import scipy.stats \n",
    "\n",
    "\n",
    "boba_sales = {          # Step 1: Creating dictionaries for BobaWonder and WaterCure\n",
    "    'January': 900, \n",
    "    'February': 800, \n",
    "    'March': 639, \n",
    "    'April': 772, \n",
    "    'May': 682, \n",
    "    'June': 635, \n",
    "    'July': 538, \n",
    "    'August': 716\n",
    "}\n",
    "\n",
    "watercure_sales = {\n",
    "    'January': 890, \n",
    "    'February': 700, \n",
    "    'March': 523, \n",
    "    'April': 612, \n",
    "    'May': 661, \n",
    "    'June': 456, \n",
    "    'July': 435, \n",
    "    'August': 452\n",
    "}\n",
    "\n",
    "max_boba_sales_month = max(boba_sales, key=boba_sales.get)   # Step 2: Finding  months with the higest and lowest sales for both products\n",
    "\n",
    "min_boba_sales_month = min(boba_sales, key=boba_sales.get)\n",
    "\n",
    "max_watercure_sales_month = max(watercure_sales, key=watercure_sales.get)\n",
    "min_watercure_sales_month = min(watercure_sales, key=watercure_sales.get)\n",
    "\n",
    "\n",
    "print(f\"Highest sales for BobaWonder: {max_boba_sales_month} ({boba_sales[max_boba_sales_month]})\") #Step 3  Printing the result for highest and lowest sales\n",
    "print(f\"Lowest sales for BobaWonder: {min_boba_sales_month} ({boba_sales[min_boba_sales_month]})\")\n",
    "\n",
    "print(f\"Highest sales for WaterCure: {max_watercure_sales_month} ({watercure_sales[max_watercure_sales_month]})\")\n",
    "print(f\"Lowest sales for WaterCure: {min_watercure_sales_month} ({watercure_sales[min_watercure_sales_month]})\")\n",
    "\n",
    "\n",
    "print(\"\\nMonths with BobaWonder sales over 750:\")   # Step 4: Printing months where sales for each product are greater than 750\n",
    "for month, sales in boba_sales.items():\n",
    "    if sales > 750:\n",
    "        print(f\"{month}: {sales}\")\n",
    "\n",
    "print(\"\\nMonths with WaterCure sales over 750:\")\n",
    "for month, sales in watercure_sales.items():\n",
    "    if sales > 750:\n",
    "        print(f\"{month}: {sales}\")\n",
    "\n",
    "\n",
    "\n",
    "boba_sales_values = list(boba_sales.values()) # Step 5: Calculating Pearson correlation coefficient and extracting sales data as lists\n",
    "watercure_sales_values = list(watercure_sales.values())\n",
    "\n",
    "\n",
    "correlation_coefficient, p_value = pearsonr(boba_sales_values, watercure_sales_values)   #Step 6: Calculating Pearson correlation coefficient\n",
    "\n",
    "\n",
    "print(f\"\\nPearson correlation coefficient: {correlation_coefficient}\") #Step 7 Printing the correlation coefficient and p-value\n",
    "print(f\"P-value: {p_value}\")\n"
   ]
  },
  {
   "cell_type": "markdown",
   "id": "fe639a5d-0e2e-4792-a2e9-49eb7bbccc56",
   "metadata": {},
   "source": [
    "***Interpretation of the Results:***\n",
    "\n",
    "**Highest and Lowest Sales:**\n",
    "\n",
    "- BobaWonder had its highest sales in January with 900 units and its lowest sales in July with 538 units.\n",
    "- WaterCure had its highest sales in January with 890 units and its lowest sales in July with 435 units.\n",
    "- Months with Sales Over 750:\n",
    "- BobaWonder: The sales exceeded 750 units in January, February, and April.\n",
    "- WaterCure: Only January recorded sales over 750 units.\n",
    "\n",
    "**Pearson Correlation Coefficient:**\n",
    "\n",
    "- The Pearson correlation coefficient is 0.8607 close to 1, which indicates a strong positive linear relationship between the sales of BobaWonder and WaterCure. This means that when the sales of BobaWonder increase, the sales of WaterCure tend to also increase, and vice versa.\n",
    "- The p-value is very small (likely below 0.05, though not explicitly stated), suggesting that this correlation is statistically significant. A significant p-value means the strong correlation between the sales of BobaWonder and WaterCure is unlikely to have occurred by random chance.\n",
    "  the other.\r\n"
   ]
  },
  {
   "cell_type": "markdown",
   "id": "e45f6b67-e1de-479e-8914-ad262314d430",
   "metadata": {},
   "source": [
    "Thus, the sales performance of BobaWonder is positively correlated with that of WaterCure, and good sales of one product typically indicate good sales for the other."
   ]
  },
  {
   "cell_type": "markdown",
   "id": "d93ced4e-1d46-4e5a-a634-e9d61a201f53",
   "metadata": {},
   "source": [
    "**Summary**\n",
    "\n",
    "This explanation provides a summary of the findings from the code analysis,highlighting the key insights regarding sales performance of BobaWonder and WaterCure and the implications for WaterPro's business strategy"
   ]
  },
  {
   "cell_type": "code",
   "execution_count": null,
   "id": "1db1c806-f849-4266-8d40-371926da0abf",
   "metadata": {},
   "outputs": [],
   "source": []
  }
 ],
 "metadata": {
  "kernelspec": {
   "display_name": "Python 3 (ipykernel)",
   "language": "python",
   "name": "python3"
  },
  "language_info": {
   "codemirror_mode": {
    "name": "ipython",
    "version": 3
   },
   "file_extension": ".py",
   "mimetype": "text/x-python",
   "name": "python",
   "nbconvert_exporter": "python",
   "pygments_lexer": "ipython3",
   "version": "3.12.4"
  }
 },
 "nbformat": 4,
 "nbformat_minor": 5
}
