{
 "cells": [
  {
   "cell_type": "code",
   "execution_count": 1,
   "id": "8e1dba77-7693-4193-869e-abad1eac63b1",
   "metadata": {},
   "outputs": [],
   "source": [
    "Target_Sales=800000"
   ]
  },
  {
   "cell_type": "code",
   "execution_count": 3,
   "id": "74cae6cb-6db1-41aa-887f-e6dd13937023",
   "metadata": {},
   "outputs": [],
   "source": [
    "Revenue_Per_Unit=22.2"
   ]
  },
  {
   "cell_type": "code",
   "execution_count": 5,
   "id": "6b516272-5c33-4e46-89a7-8ce41a318117",
   "metadata": {},
   "outputs": [],
   "source": [
    "Revenue_Till_Now=335220"
   ]
  },
  {
   "cell_type": "code",
   "execution_count": 7,
   "id": "ce56e086-ddfc-4a5e-8071-7879f2f85c29",
   "metadata": {},
   "outputs": [],
   "source": [
    "Unit_Sales_Of_August=1000"
   ]
  },
  {
   "cell_type": "code",
   "execution_count": 27,
   "id": "db58d839-76e8-4848-a3a6-29ca32bdaa75",
   "metadata": {},
   "outputs": [],
   "source": [
    "Revenue_Till_August=(Unit_Sales_Of_August*Revenue_Per_Unit)+Revenue_Till_Now \n",
    "#To calculate revenue till august month we have multiplied unit sales of august with revenue per unit and has added total revenue of 7 months"
   ]
  },
  {
   "cell_type": "code",
   "execution_count": 11,
   "id": "918de59f-592f-41b7-978e-028ad27b421b",
   "metadata": {},
   "outputs": [
    {
     "data": {
      "text/plain": [
       "357420.0"
      ]
     },
     "execution_count": 11,
     "metadata": {},
     "output_type": "execute_result"
    }
   ],
   "source": [
    "Revenue_Till_August"
   ]
  },
  {
   "cell_type": "code",
   "execution_count": 29,
   "id": "b91eaed6-6cb0-4910-894f-b57a4864049a",
   "metadata": {},
   "outputs": [],
   "source": [
    "Revenue_Needed=Target_Sales-Revenue_Till_August #To calculate revenue needed we have subtract revenue of 8 months with target sales"
   ]
  },
  {
   "cell_type": "code",
   "execution_count": 15,
   "id": "de9bdd90-e7be-4f72-b9d4-cd20f6de59a7",
   "metadata": {},
   "outputs": [
    {
     "data": {
      "text/plain": [
       "442580.0"
      ]
     },
     "execution_count": 15,
     "metadata": {},
     "output_type": "execute_result"
    }
   ],
   "source": [
    "Revenue_Needed"
   ]
  },
  {
   "cell_type": "code",
   "execution_count": 31,
   "id": "6ba96ba9-6f4e-46b5-a771-353982d720d8",
   "metadata": {},
   "outputs": [],
   "source": [
    "Units_Needed=Revenue_Needed/Revenue_Per_Unit\n",
    "#To calculate the units needed to meet the target we have devide the revenue needed with per unit cost of revenue"
   ]
  },
  {
   "cell_type": "code",
   "execution_count": 19,
   "id": "8fc7646c-71c5-4809-85f9-c52580682455",
   "metadata": {},
   "outputs": [
    {
     "name": "stdout",
     "output_type": "stream",
     "text": [
      "19936.036036036036\n"
     ]
    }
   ],
   "source": [
    "print(Units_Needed)"
   ]
  },
  {
   "cell_type": "code",
   "execution_count": 33,
   "id": "93704d01-e6a5-4474-86ba-5c48273db831",
   "metadata": {},
   "outputs": [
    {
     "data": {
      "text/plain": [
       "19936"
      ]
     },
     "execution_count": 33,
     "metadata": {},
     "output_type": "execute_result"
    }
   ],
   "source": [
    "round(Units_Needed) #Here we have rounded of the units till the last decimal to get the exact number of units"
   ]
  },
  {
   "cell_type": "code",
   "execution_count": 35,
   "id": "6370420c-90ad-45ac-bd9b-4a7fc2ee61e5",
   "metadata": {},
   "outputs": [],
   "source": [
    "Revenue_Till_August=str(Revenue_Till_August)\n",
    "Revenue_Needed=str(Revenue_Needed)\n",
    "#Here we have converted revenues to string to add \"$\" sign in print statement to get the amount."
   ]
  },
  {
   "cell_type": "code",
   "execution_count": 25,
   "id": "d4c68847-f3f6-4d10-9fbb-2a4d3329e584",
   "metadata": {},
   "outputs": [
    {
     "name": "stdout",
     "output_type": "stream",
     "text": [
      "Revenue till August is $357420.0\n",
      "Revenue needed for remaining month to meet the target is $442580.0\n",
      "Units needed to meet the target is 19936\n"
     ]
    }
   ],
   "source": [
    "print(\"Revenue till August is\",\"$\"+Revenue_Till_August)\n",
    "print(\"Revenue needed for remaining month to meet the target is\",\"$\"+Revenue_Needed)\n",
    "print(\"Units needed to meet the target is\",round(Units_Needed))"
   ]
  },
  {
   "cell_type": "code",
   "execution_count": null,
   "id": "27fb7d98-b658-4c38-bd07-919f4f7956dc",
   "metadata": {},
   "outputs": [],
   "source": []
  }
 ],
 "metadata": {
  "kernelspec": {
   "display_name": "Python 3 (ipykernel)",
   "language": "python",
   "name": "python3"
  },
  "language_info": {
   "codemirror_mode": {
    "name": "ipython",
    "version": 3
   },
   "file_extension": ".py",
   "mimetype": "text/x-python",
   "name": "python",
   "nbconvert_exporter": "python",
   "pygments_lexer": "ipython3",
   "version": "3.12.4"
  }
 },
 "nbformat": 4,
 "nbformat_minor": 5
}
